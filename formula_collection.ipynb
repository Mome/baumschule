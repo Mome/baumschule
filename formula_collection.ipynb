{
 "cells": [
  {
   "cell_type": "markdown",
   "metadata": {},
   "source": [
    "HyperParameter Optimization + Model Selection\n",
    "---------------------------------------------"
   ]
  },
  {
   "cell_type": "markdown",
   "metadata": {
    "slideshow": {
     "slide_type": "slide"
    }
   },
   "source": [
    "** Hyperparameter Optimization (Bergstra, Bengio):**\n",
    "\n",
    "$$ \\lambda^{(*)} = \\underset{\\lambda \\in \\Lambda}{\\operatorname{argmin}} \\mathbb{E}_{x\\tilde{}\\mathcal{G}_x}\\big[\\mathcal{L}\\big(x;\\mathcal{A}_\\lambda(X_{train})\\big)\\big] $$\n",
    "\n",
    "||\n",
    "|-|\n",
    "|$\\mathcal{L}$|loss function\n",
    "|$\\mathcal{A}_\\lambda$|learning algorithm\n",
    "|$\\mathcal{G}_x$| sample distribution\n",
    "|$\\Psi$|hyper-parameter response function / surface\n",
    "|$\\Lambda_s$| evaluated hyper-parameter configurations\n",
    "\n",
    "$$ \\lambda^{(*)} \\approx \\underset{\\lambda \\in \\Lambda}{\\operatorname{argmin}} \\sum_{x \\in X_{val}}\\mathcal{L}\\big(x;\\mathcal{A}_\\lambda(X_{train})\\big)$$\n",
    "\n",
    "$$ = \\underset{\\lambda \\in \\Lambda}{\\operatorname{argmin}} \\Psi(\\lambda) \n",
    "\\approx \\underset{\\lambda \\in \\Lambda_s}{\\operatorname{argmin}} \\Psi(\\lambda) = \\hat{\\lambda}$$\n",
    "\n"
   ]
  },
  {
   "cell_type": "markdown",
   "metadata": {
    "slideshow": {
     "slide_type": "subslide"
    }
   },
   "source": [
    "**Grid Search**\n",
    "\n",
    "Choose a set of values $L_i$ for each variabel $\\lambda_i$.\n",
    "\n",
    "$\\Lambda_s = L_1\\times\\dots\\times L_k$\n",
    "\n",
    "$s = |\\Lambda| = \\prod_{i=0}^k |L_i|$\n",
    "\n",
    "**Combined Manual & Grid Search:** first look for promising reagions, than apply Grid Search."
   ]
  },
  {
   "cell_type": "markdown",
   "metadata": {
    "slideshow": {
     "slide_type": "subslide"
    }
   },
   "source": [
    "Bergstra, J., & Bengio, Y. (2012). Random search for hyper-parameter optimization. The Journal of Machine Learning Research, 13(1), 281-305.\n",
    "\n",
    " - Random search has all the practical advantages of grid search (conceptual simplicity, ease of implementation,\n",
    "trivial parallelism) and trades a small reduction in efficiency in low-dimensional spaces for a large\n",
    "improvement in efficiency in high-dimensional search spaces.\n",
    "In this work we show that random search is more efficient than grid search in high-dimensional\n",
    " - random search works much better for low effective dimensionality: $ f(x,y) \\approx g(x) $\n",
    "\n",
    "<img src=\"random_vs_grid_layout.png\"></img>"
   ]
  },
  {
   "cell_type": "markdown",
   "metadata": {
    "slideshow": {
     "slide_type": "slide"
    }
   },
   "source": [
    "**General Setting of the Learning Problem (Vapnik):**\n",
    "\n",
    "$$ R(\\alpha) = \\int Q(z,\\alpha)dP(z) $$\n",
    "$$ R_{emp}(\\alpha)=\\frac{1}{\\mathscr{l}}\\sum_{i=1}^\\mathscr{l}Q(z_i,\\alpha)$$\n",
    "\n",
    "ERM principle - empirical risk mimization inductive principle"
   ]
  },
  {
   "cell_type": "markdown",
   "metadata": {
    "slideshow": {
     "slide_type": "skip"
    }
   },
   "source": [
    "**Close Parameter Configurations have Close Loss:**\n",
    " \n",
    "if $|\\varepsilon|<|\\delta|$ and\n",
    "$$ d_\\varepsilon = \\big|R(x) - R(x + \\varepsilon)\\big| $$\n",
    "$$ d_\\delta = \\big|R(x) - R(x + \\delta)\\big|$$ then\n",
    "$$ P\\big(d_\\varepsilon < d_\\delta\\big) > P\\big(d_\\varepsilon > d_\\delta\\big)$$"
   ]
  },
  {
   "cell_type": "code",
   "execution_count": null,
   "metadata": {
    "collapsed": true
   },
   "outputs": [],
   "source": []
  }
 ],
 "metadata": {
  "celltoolbar": "Slideshow",
  "kernelspec": {
   "display_name": "Python 3",
   "language": "python",
   "name": "python3"
  },
  "language_info": {
   "codemirror_mode": {
    "name": "ipython",
    "version": 3
   },
   "file_extension": ".py",
   "mimetype": "text/x-python",
   "name": "python",
   "nbconvert_exporter": "python",
   "pygments_lexer": "ipython3",
   "version": "3.5.1"
  }
 },
 "nbformat": 4,
 "nbformat_minor": 0
}
