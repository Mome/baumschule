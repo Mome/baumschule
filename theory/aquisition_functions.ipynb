{
 "cells": [
  {
   "cell_type": "markdown",
   "metadata": {},
   "source": [
    "$$ EI(y|x) = \\int_{-\\infty}^{\\infty} \\max(0, y^*-y)p(y|x)dy = \\int_{-\\infty}^{y^*}(y^*-y)p(y|x)dy$$\n",
    "\n",
    "$$ = \\int_{-\\infty}^{y^*}(y^*-y)\\mathcal{N}(y; \\mu, \\sigma)dy = \\int_{-\\infty}^{y^*}(y^*-y)\\mathcal{N}(y-\\mu; 0, \\sigma)dy$$\n",
    "\n",
    "$$ = \\int_{-\\infty}^{y^*}(y^*- t - \\mu)\\cdot\\mathcal{N}(t; 0, \\sigma)dt $$ \n",
    "\n",
    "$$ = (y^*-\\mu)\\int_{-\\infty}^{y^*}\\mathcal{N}(t; 0, \\sigma)dt - \\int_{-\\infty}^{y^*}t\\cdot\\mathcal{N}(t; 0, \\sigma)dt$$\n",
    "\n",
    "$$ (y^*-\\mu)\\Phi(y^*/\\sigma) - \\phi(y^*/\\sigma)$$"
   ]
  }
 ],
 "metadata": {
  "kernelspec": {
   "display_name": "Python 3",
   "language": "python",
   "name": "python3"
  },
  "language_info": {
   "codemirror_mode": {
    "name": "ipython",
    "version": 3
   },
   "file_extension": ".py",
   "mimetype": "text/x-python",
   "name": "python",
   "nbconvert_exporter": "python",
   "pygments_lexer": "ipython3",
   "version": "3.5.2"
  }
 },
 "nbformat": 4,
 "nbformat_minor": 1
}
