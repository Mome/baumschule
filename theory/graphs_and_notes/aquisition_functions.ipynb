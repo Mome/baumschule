{
 "cells": [
  {
   "cell_type": "markdown",
   "metadata": {},
   "source": [
    "# wrong derivation of expected improvment"
   ]
  },
  {
   "cell_type": "markdown",
   "metadata": {},
   "source": [
    "$$ EI(y|x) = \\int_{-\\infty}^{\\infty} \\max(0, y^*-y)p(y|x)dy = \\int_{-\\infty}^{y^*}(y^*-y)p(y|x)dy$$\n",
    "\n",
    "$$ = \\int_{-\\infty}^{y^*}(y^*-y)\\mathcal{N}(y; \\mu, \\sigma)dy = \\int_{-\\infty}^{y^*}(y^*-y)\\mathcal{N}(y-\\mu; 0, \\sigma)dy$$\n",
    "\n",
    "$$ = \\int_{-\\infty}^{y^*}(y^*- t - \\mu)\\cdot\\mathcal{N}(t; 0, \\sigma)dt $$ \n",
    "\n",
    "$$ = (y^*-\\mu)\\int_{-\\infty}^{y^*}\\mathcal{N}(t; 0, \\sigma)dt - \\int_{-\\infty}^{y^*}t\\cdot\\mathcal{N}(t; 0, \\sigma)dt$$\n",
    "\n",
    "$$=  (y^*-\\mu)\\Phi(y^*/\\sigma) - \\phi(y^*/\\sigma)$$"
   ]
  },
  {
   "cell_type": "markdown",
   "metadata": {
    "collapsed": true
   },
   "source": [
    "\n",
    "# better derivastion of expected improvment"
   ]
  },
  {
   "cell_type": "markdown",
   "metadata": {
    "collapsed": true
   },
   "source": [
    "$$(\\mu - \\tau) \\Phi \\bigg(\\frac{\\tau-\\mu}{\\sigma}\\bigg) + \\sigma \\phi \\bigg(\\frac{\\tau-\\mu}{\\sigma}\\bigg)$$"
   ]
  },
  {
   "cell_type": "markdown",
   "metadata": {},
   "source": [
    "$$ = (\\mu - \\tau)\\int_\\limits{-\\infty}^{\\tau}\\mathcal{N}(z; \\mu, \\sigma)dz + \\sigma \\mathcal{N}(\\tau; \\mu, \\sigma)$$ \n"
   ]
  },
  {
   "cell_type": "markdown",
   "metadata": {},
   "source": [
    "$$ = \\int\\limits_{-\\infty}^{\\tau}(\\mu - \\tau)\\mathcal{N}(z; \\mu, \\sigma)dz + \\sigma \\int\\limits_{-\\infty}^{\\tau}\\Big(-\\frac{\\mu-z}{\\sigma}\\Big)\\mathcal{N}(z; \\mu, \\sigma)dz$$ \n"
   ]
  },
  {
   "cell_type": "markdown",
   "metadata": {},
   "source": [
    "$$ = \\int\\limits_{-\\infty}^{\\tau}(\\mu - \\tau)\\mathcal{N}(z; \\mu, \\sigma)dz + \\int\\limits_{-\\infty}^{\\tau}\\Big(-\\mu-z\\Big)\\mathcal{N}(z; \\mu, \\sigma)dz$$ \n"
   ]
  },
  {
   "cell_type": "markdown",
   "metadata": {},
   "source": [
    "$$ = \\int\\limits_{-\\infty}^{\\tau}(\\mu - \\tau -\\mu - z)\\mathcal{N}(z; \\mu, \\sigma)dz$$ "
   ]
  },
  {
   "cell_type": "markdown",
   "metadata": {},
   "source": [
    "$$ = \\int\\limits_{-\\infty}^{\\tau}(\\tau - z)\\mathcal{N}(z; \\mu, \\sigma)dz$$ "
   ]
  },
  {
   "cell_type": "markdown",
   "metadata": {},
   "source": [
    "$$ = \\mathbb{E}[\\tau - z] - \\int\\limits_{\\tau}^{\\infty}(\\tau - z)\\mathcal{N}(z; \\mu, \\sigma)dz$$ "
   ]
  },
  {
   "cell_type": "markdown",
   "metadata": {},
   "source": [
    "$$ = \\int\\limits_{\\tau}^{\\infty}(z-\\tau)\\mathcal{N}(z; \\mu, \\sigma)dz - \\mathbb{E}[z - \\tau]$$ "
   ]
  },
  {
   "cell_type": "markdown",
   "metadata": {},
   "source": [
    "$$ = \\mathbb{E}\\big[(z - \\tau)[z>\\tau]\\big] - \\mathbb{E}\\big[(z - \\tau)\\big]$$ "
   ]
  }
 ],
 "metadata": {
  "kernelspec": {
   "display_name": "Python 3",
   "language": "python",
   "name": "python3"
  },
  "language_info": {
   "codemirror_mode": {
    "name": "ipython",
    "version": 3
   },
   "file_extension": ".py",
   "mimetype": "text/x-python",
   "name": "python",
   "nbconvert_exporter": "python",
   "pygments_lexer": "ipython3",
   "version": "3.5.2"
  }
 },
 "nbformat": 4,
 "nbformat_minor": 1
}
