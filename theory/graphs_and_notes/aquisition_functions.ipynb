{
 "cells": [
  {
   "cell_type": "markdown",
   "metadata": {},
   "source": [
    "# Formulation: Expected Improvment\n",
    "Let $X$ be a normal distributed random variable with and $\\tau$ a real valued threshold value.\n",
    "\n",
    "$$ X \\sim \\mathcal{N}(\\mu, \\sigma),\\ \\ \\tau \\in \\mathbb{R} $$\n",
    "\n",
    "The expected improvement is defined like:\n",
    "\n",
    "$$\\operatorname{EI}(X) := \\mathbb{E}[max(X-\\tau, 0)]\\ $$\n",
    "\n",
    "The closed form formular of $EI$ is supposed to be:\n",
    "\n",
    "$$\\operatorname{EI}(X) = (\\mu - \\tau) \\cdot \\Phi \\bigg(\\frac{\\tau-\\mu}{\\sigma}\\bigg) + \\sigma \\cdot \\phi \\bigg(\\frac{\\tau-\\mu}{\\sigma}\\bigg)$$\n",
    "\n",
    "with $\\Phi$ beeing the CDF, and $\\phi$ the PDF of the standart normal distribution.\n",
    "\n",
    "I cannot reproduce this result."
   ]
  },
  {
   "cell_type": "markdown",
   "metadata": {},
   "source": [
    "# wrong derivation of expected improvment"
   ]
  },
  {
   "cell_type": "markdown",
   "metadata": {},
   "source": [
    "$$ EI(y|x) = \\int_{-\\infty}^{\\infty} \\max(0, y^*-y)p(y|x)dy = \\int_{-\\infty}^{y^*}(y^*-y)p(y|x)dy$$\n",
    "\n",
    "$$ = \\int_{-\\infty}^{y^*}(y^*-y)\\mathcal{N}(y; \\mu, \\sigma)dy = \\int_{-\\infty}^{y^*}(y^*-y)\\mathcal{N}(y-\\mu; 0, \\sigma)dy$$\n",
    "\n",
    "$$ = \\int_{-\\infty}^{y^*}(y^*- t - \\mu)\\cdot\\mathcal{N}(t; 0, \\sigma)dt $$ \n",
    "\n",
    "$$ = (y^*-\\mu)\\int_{-\\infty}^{y^*}\\mathcal{N}(t; 0, \\sigma)dt - \\int_{-\\infty}^{y^*}t\\cdot\\mathcal{N}(t; 0, \\sigma)dt$$\n",
    "\n",
    "$$=  (y^*-\\mu)\\Phi(y^*/\\sigma) - \\phi(y^*/\\sigma)$$"
   ]
  },
  {
   "cell_type": "markdown",
   "metadata": {
    "collapsed": true
   },
   "source": [
    "\n",
    "# better derivastion of expected improvment"
   ]
  },
  {
   "cell_type": "markdown",
   "metadata": {
    "collapsed": true
   },
   "source": [
    "$$(\\mu - \\tau) \\Phi \\bigg(\\frac{\\tau-\\mu}{\\sigma}\\bigg) + \\sigma \\phi \\bigg(\\frac{\\tau-\\mu}{\\sigma}\\bigg) =$$"
   ]
  },
  {
   "cell_type": "markdown",
   "metadata": {},
   "source": [
    "$$(\\mu - \\tau)\\int_\\limits{-\\infty}^{\\tau}\\mathcal{N}(z; \\mu, \\sigma)dz + \\sigma \\mathcal{N}(\\tau; \\mu, \\sigma) = $$ \n"
   ]
  },
  {
   "cell_type": "markdown",
   "metadata": {},
   "source": [
    "$$\\int\\limits_{-\\infty}^{\\tau}(\\mu - \\tau)\\mathcal{N}(z; \\mu, \\sigma)dz + \\sigma \\int\\limits_{-\\infty}^{\\tau}\\Big(-\\frac{\\mu-z}{\\sigma}\\Big)\\mathcal{N}(z; \\mu, \\sigma)dz = $$ \n"
   ]
  },
  {
   "cell_type": "markdown",
   "metadata": {},
   "source": [
    "$$\\int\\limits_{-\\infty}^{\\tau}(\\mu - \\tau)\\mathcal{N}(z; \\mu, \\sigma)dz + \\int\\limits_{-\\infty}^{\\tau}\\Big(-\\mu-z\\Big)\\mathcal{N}(z; \\mu, \\sigma)dz = $$ \n"
   ]
  },
  {
   "cell_type": "markdown",
   "metadata": {},
   "source": [
    "$$\\int\\limits_{-\\infty}^{\\tau}(\\tau - z)\\mathcal{N}(z; \\mu, \\sigma)dz =$$ "
   ]
  },
  {
   "cell_type": "markdown",
   "metadata": {},
   "source": [
    "$$ \\int\\limits_{-\\infty}^{\\tau}(\\mu - \\tau -\\mu - z)\\mathcal{N}(z; \\mu, \\sigma)dz =$$ "
   ]
  },
  {
   "cell_type": "markdown",
   "metadata": {},
   "source": [
    "$$\\mathbb{E}[\\tau - z] - \\int\\limits_{\\tau}^{\\infty}(\\tau - z)\\mathcal{N}(z; \\mu, \\sigma)dz = $$ "
   ]
  },
  {
   "cell_type": "markdown",
   "metadata": {},
   "source": [
    "$$ = \\int\\limits_{\\tau}^{\\infty}(z-\\tau)\\mathcal{N}(z; \\mu, \\sigma)dz - \\mathbb{E}[z - \\tau]$$ "
   ]
  },
  {
   "cell_type": "markdown",
   "metadata": {},
   "source": [
    "$$ = \\mathbb{E}\\big[(z - \\tau)[z>\\tau]\\big] - \\mathbb{E}\\big[(z - \\tau)\\big]$$ "
   ]
  },
  {
   "cell_type": "markdown",
   "metadata": {},
   "source": [
    "# Stolen derivation"
   ]
  },
  {
   "cell_type": "markdown",
   "metadata": {},
   "source": [
    "$$\\operatorname{EI}(X) := \\mathbb{E}[max(X-\\tau, 0)]\\ $$\n",
    "\n",
    "$$\\operatorname{EI}(X) =  \\int\\limits_{\\tau}^{\\infty}(x-\\tau)dp(y|x) = \\int\\limits_{\\tau}^{\\infty}(x-\\tau)\\mathcal{N}(y;\\mu,\\sigma)dy$$\n",
    "\n",
    "\n",
    "$$ = \\frac{1}{\\sigma\\sqrt{2\\pi}} \\int\\limits_{\\tau}^{\\infty}(y-\\tau)e^{-\\frac{1}{2}\\big(\\frac{y-\\mu}{\\sigma}\\big)^2}dy =\n",
    "\\frac{1}{\\sqrt{2\\pi}} \\int\\limits_{(\\tau-\\mu)/\\sigma}^{\\infty}(u\\sigma+\\mu-\\tau)e^{-\\frac{1}{2}u^2}du$$\n",
    "\n",
    "\n",
    "$$=\\frac{1}{\\sqrt{2\\pi}}\\bigg((\\mu-\\tau) \\mkern-12mu \\int\\limits_{(\\tau-\\mu)/\\sigma}^{\\infty} \\mkern-10mu e^{-\\frac{1}{2}u^2}du + \\sigma \\mkern-12mu \\int\\limits_{(\\tau-\\mu)/\\sigma}^{\\infty} \\mkern-10mu u e^{-\\frac{1}{2}u^2}du \\bigg)$$\n",
    "\n",
    "\n",
    "$$=(\\mu-\\tau)\\bigg|\\ \\Phi(u)\\ \\bigg|_{(\\tau-\\mu)/\\sigma}^{\\infty} \\mkern-6mu + \\ \\ \\ \\sigma\\bigg|-\\frac{1}{\\sqrt{2\\pi}}e^{-\\frac{1}{2}u^2}\\bigg|_{(\\tau-\\mu)/\\sigma}^{\\infty}$$\n",
    "\n",
    "\n",
    "$$=(\\mu-\\tau)\\bigg(1-\\Phi\\bigg(\\frac{\\tau-\\mu}{\\sigma}\\bigg)\\bigg) + \\sigma \\cdot \\phi \\bigg(\\frac{\\tau-\\mu}{\\sigma}\\bigg)$$\n",
    "\n",
    "\n",
    "$$ = (\\mu - \\tau) \\cdot \\Phi \\bigg(\\frac{\\mu-\\tau}{\\sigma}\\bigg) + \\sigma \\cdot \\phi \\bigg(\\frac{\\mu-\\tau}{\\sigma}\\bigg)$$"
   ]
  },
  {
   "cell_type": "code",
   "execution_count": null,
   "metadata": {
    "collapsed": true
   },
   "outputs": [],
   "source": []
  }
 ],
 "metadata": {
  "kernelspec": {
   "display_name": "Python 3",
   "language": "python",
   "name": "python3"
  },
  "language_info": {
   "codemirror_mode": {
    "name": "ipython",
    "version": 3
   },
   "file_extension": ".py",
   "mimetype": "text/x-python",
   "name": "python",
   "nbconvert_exporter": "python",
   "pygments_lexer": "ipython3",
   "version": "3.5.2"
  }
 },
 "nbformat": 4,
 "nbformat_minor": 1
}
