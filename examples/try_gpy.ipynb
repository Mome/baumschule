{
 "cells": [
  {
   "cell_type": "code",
   "execution_count": 1,
   "metadata": {
    "collapsed": false
   },
   "outputs": [],
   "source": [
    "#import necessary modules, set up the plotting\n",
    "import numpy as np\n",
    "%matplotlib inline\n",
    "%config InlineBackend.figure_format = 'svg'\n",
    "import matplotlib;matplotlib.rcParams['figure.figsize'] = (8,6)\n",
    "from matplotlib import pyplot as plt\n",
    "import GPy"
   ]
  },
  {
   "cell_type": "code",
   "execution_count": 2,
   "metadata": {
    "collapsed": true
   },
   "outputs": [],
   "source": [
    "m = GPy.examples.regression.sparse_GP_regression_1D(plot=False, optimize=False)"
   ]
  },
  {
   "cell_type": "code",
   "execution_count": null,
   "metadata": {
    "collapsed": false
   },
   "outputs": [],
   "source": [
    "m.inducing_inputs"
   ]
  },
  {
   "cell_type": "code",
   "execution_count": 3,
   "metadata": {
    "collapsed": false
   },
   "outputs": [
    {
     "name": "stdout",
     "output_type": "stream",
     "text": [
      "\n",
      "Name : sparse_gp\n",
      "Objective : 408.62309877336673\n",
      "Number of Parameters : 8\n",
      "Number of Optimization Parameters : 8\n",
      "Updates : True\n",
      "Parameters:\n",
      "  \u001b[1msparse_gp.             \u001b[0;0m  |   value  |  constraints  |  priors\n",
      "  \u001b[1minducing_inputs        \u001b[0;0m  |  (5, 1)  |               |        \n",
      "  \u001b[1mrbf.variance           \u001b[0;0m  |     1.0  |      +ve      |        \n",
      "  \u001b[1mrbf.lengthscale        \u001b[0;0m  |     1.0  |      +ve      |        \n",
      "  \u001b[1mGaussian_noise.variance\u001b[0;0m  |     1.0  |      +ve      |        \n"
     ]
    }
   ],
   "source": [
    "print(m)"
   ]
  },
  {
   "cell_type": "code",
   "execution_count": null,
   "metadata": {
    "collapsed": false
   },
   "outputs": [],
   "source": [
    "rbf = GPy.kern.RBF(1)"
   ]
  },
  {
   "cell_type": "code",
   "execution_count": null,
   "metadata": {
    "collapsed": false
   },
   "outputs": [],
   "source": [
    "kern1 = GPy.kern.SplitKern(1)\n",
    "kern2 = GPy.kern.PeriodicMatern32(1)\n",
    "_ = kern1.plot(ax=plt.gca())\n",
    "_ = kern2.plot(ax=plt.gca())"
   ]
  },
  {
   "cell_type": "code",
   "execution_count": null,
   "metadata": {
    "collapsed": false
   },
   "outputs": [],
   "source": [
    "GPy.kern.S"
   ]
  },
  {
   "cell_type": "markdown",
   "metadata": {},
   "source": [
    "Matern 3/2 kernel:\n",
    "$$k(r) = \\sigma^2 (1 + \\sqrt{3} r) \\exp(- \\sqrt{3} r) \\ \\ \\ \\  \\text{ where  } r = \\sqrt{\\sum_{i=1}^{input\\_\n",
    "dim} \\frac{(x_i-y_i)^2}{\\ell_i^2} }$$\n",
    "\n",
    "\n",
    "Matern 5/2 kernel:\n",
    "$$k(r) = \\sigma^2 (1 + \\sqrt{5} r + \\frac53 r^2) \\exp(- \\sqrt{5} r) \\ \\ \\ \\ \\  \\text{ where  } r = \\sqrt{\\sum_{i=1}^{input\\_dim} \\frac{(x_i-y_i)^2}{\\ell_i^2} }$$\n",
    "\n",
    "\n",
    "Exponential kernel (aka Ornstein-Uhlenbeck or Matern 1/2)\n",
    "$$k(r) = \\sigma^2 \\exp(- r) \\ \\ \\ \\ \\  \\text{ where  } r = \\sqrt{\\sum_{i=1}^{input\\_dim} \\frac{(x_i-y_i)^2}{\\ell_i^2} }$$\n",
    "\n",
    "**kern.RQ**: Rational Quadratic Kernel\n",
    "$$   k(r) = \\sigma^2 \\bigg( 1 + \\frac{r^2}{2} \\bigg)^{- \\alpha} $$\n",
    "\n",
    "Stationary covariance fucntion depend only on r, where r is defined as\n",
    "$$ r(x, x') = \\sqrt{ \\sum_{q=1}^Q (x_q - x'_q)^2 } $$\n",
    "\n",
    "Linear kernel\n",
    "$$ k(x,y) = \\sum_{i=1}^{\\text{input_dim}} \\sigma^2_i x_iy_i $$\n",
    "\n"
   ]
  },
  {
   "cell_type": "code",
   "execution_count": null,
   "metadata": {
    "collapsed": false
   },
   "outputs": [],
   "source": [
    "# try multidimensional data!\n"
   ]
  },
  {
   "cell_type": "code",
   "execution_count": 4,
   "metadata": {
    "collapsed": false
   },
   "outputs": [
    {
     "data": {
      "text/plain": [
       "{}"
      ]
     },
     "execution_count": 4,
     "metadata": {},
     "output_type": "execute_result"
    }
   ],
   "source": [
    "m."
   ]
  },
  {
   "cell_type": "code",
   "execution_count": null,
   "metadata": {
    "collapsed": true
   },
   "outputs": [],
   "source": []
  }
 ],
 "metadata": {
  "kernelspec": {
   "display_name": "Python 3",
   "language": "python",
   "name": "python3"
  },
  "language_info": {
   "codemirror_mode": {
    "name": "ipython",
    "version": 3
   },
   "file_extension": ".py",
   "mimetype": "text/x-python",
   "name": "python",
   "nbconvert_exporter": "python",
   "pygments_lexer": "ipython3",
   "version": "3.5.1"
  }
 },
 "nbformat": 4,
 "nbformat_minor": 0
}
